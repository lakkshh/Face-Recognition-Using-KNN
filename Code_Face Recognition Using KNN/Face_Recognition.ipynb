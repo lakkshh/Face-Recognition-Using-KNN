{
 "cells": [
  {
   "cell_type": "code",
   "execution_count": 1,
   "metadata": {},
   "outputs": [],
   "source": [
    "import cv2\n",
    "import numpy as np\n",
    "import os\n",
    "from scipy import stats"
   ]
  },
  {
   "cell_type": "code",
   "execution_count": 2,
   "metadata": {},
   "outputs": [],
   "source": [
    "def distance(x,y):\n",
    "    return(np.sqrt(sum((x-y)**2)))"
   ]
  },
  {
   "cell_type": "code",
   "execution_count": 3,
   "metadata": {},
   "outputs": [],
   "source": [
    "def KNN(train,test,k=5):\n",
    "    dist=[]\n",
    "    #print(train.shape)\n",
    "    #print(test.shape)\n",
    "    for i in range(train.shape[0]):\n",
    "        ix=train[i,:-1]\n",
    "        iy=train[i,-1]\n",
    "        #print(ix.shape)\n",
    "        \n",
    "        d=distance(test,ix)\n",
    "        dist.append((d,iy))\n",
    "        \n",
    "    dist_list=sorted(dist)\n",
    "    #print(dist_list)\n",
    "    dist_list=dist_list[:k]\n",
    "    #print(dist_list)\n",
    "    dist_list=np.array(dist_list)\n",
    "    #print(dist_list)\n",
    "        \n",
    "    vals=dist_list[:,1]\n",
    "    pred=stats.mode(vals)\n",
    "    return int(pred[0])\n",
    "        "
   ]
  },
  {
   "cell_type": "code",
   "execution_count": 7,
   "metadata": {},
   "outputs": [
    {
     "name": "stdout",
     "output_type": "stream",
     "text": [
      "Loaded Lakshya.npy\n",
      "Loaded Shahrukh.npy\n",
      "Loaded Shrey.npy\n",
      "[[230. 234. 234. ...  25.  25.   0.]\n",
      " [ 26.  24.  28. ...  33.  30.   0.]\n",
      " [ 26.  24.  28. ...  33.  30.   0.]\n",
      " ...\n",
      " [165. 165. 172. ...  56.  67.   2.]\n",
      " [165. 165. 172. ...  56.  67.   2.]\n",
      " [146. 141. 158. ...  82.  89.   2.]]\n"
     ]
    }
   ],
   "source": [
    "cap=cv2.VideoCapture(0)\n",
    "face_cascade=cv2.CascadeClassifier(\"C:/Users/surender/Face Detect/haarcascade_frontalface_alt.xml\")\n",
    "path='./face_data/'\n",
    "\n",
    "face_data=[]\n",
    "labels=[]\n",
    "\n",
    "class_id=0\n",
    "names={}\n",
    "\n",
    "for fx in os.listdir(path):\n",
    "    if fx.endswith('.npy'):\n",
    "        names[class_id] = fx[:-4]\n",
    "        print(\"Loaded \"+fx)\n",
    "        data_item = np.load(path+fx)\n",
    "        face_data.append(data_item)\n",
    "        \n",
    "        target = class_id*np.ones((data_item.shape[0],))\n",
    "        class_id += 1\n",
    "        labels.append(target)\n",
    "\n",
    "face_dataset = np.concatenate(face_data,axis=0)\n",
    "face_labels = np.concatenate(labels,axis=0).reshape((-1,1))\n",
    "trainset = np.concatenate((face_dataset,face_labels),axis=1)\n",
    "print(trainset)\n",
    "\n",
    "\n",
    "\n",
    "while True:\n",
    "    ret,frame=cap.read()\n",
    "    \n",
    "    if(ret==False):\n",
    "        continue\n",
    "\n",
    "    #frame=cv2.cvtColor(frame,cv2.COLOR_BGR2GRAY)\n",
    "    faces=face_cascade.detectMultiScale(frame,1.3,5)\n",
    "    \n",
    "    if(len(faces)==0):\n",
    "        continue\n",
    "    \n",
    "    for face in faces:\n",
    "        x,y,w,h=face\n",
    "        \n",
    "        offset=10\n",
    "        face_section=frame[y-offset:y+offset+h,x-offset:x+offset+w]\n",
    "        face_section=cv2.resize(face_section,(100,100))\n",
    "        face_section=np.array(face_section).reshape((-1,))\n",
    "        \n",
    "        out = KNN(trainset,face_section.flatten())\n",
    "        pred_name = names[int(out)]\n",
    "        cv2.putText(frame,pred_name,(x,y-10),cv2.FONT_HERSHEY_SIMPLEX,0.8,(255,0,0),2,cv2.LINE_AA)\n",
    "        cv2.rectangle(frame,(x,y),(x+w,y+h),(255,0,0),3)\n",
    "    \n",
    "    cv2.imshow(\"frame\",frame)\n",
    "    \n",
    "    key_press=cv2.waitKey(1) & 0XFF\n",
    "    if(key_press==ord('q')):\n",
    "        break\n",
    "\n",
    "cap.release()\n",
    "cv2.destroyAllWindows()"
   ]
  },
  {
   "cell_type": "code",
   "execution_count": null,
   "metadata": {},
   "outputs": [],
   "source": []
  },
  {
   "cell_type": "code",
   "execution_count": null,
   "metadata": {},
   "outputs": [],
   "source": []
  }
 ],
 "metadata": {
  "kernelspec": {
   "display_name": "Python 3",
   "language": "python",
   "name": "python3"
  },
  "language_info": {
   "codemirror_mode": {
    "name": "ipython",
    "version": 3
   },
   "file_extension": ".py",
   "mimetype": "text/x-python",
   "name": "python",
   "nbconvert_exporter": "python",
   "pygments_lexer": "ipython3",
   "version": "3.7.6"
  }
 },
 "nbformat": 4,
 "nbformat_minor": 4
}
